{
  "cells": [
    {
      "cell_type": "markdown",
      "metadata": {
        "id": "view-in-github",
        "colab_type": "text"
      },
      "source": [
        "<a href=\"https://colab.research.google.com/github/MaengJoonYoung/DL-Project/blob/main/car_damaged.ipynb\" target=\"_parent\"><img src=\"https://colab.research.google.com/assets/colab-badge.svg\" alt=\"Open In Colab\"/></a>"
      ]
    },
    {
      "cell_type": "code",
      "execution_count": 2,
      "metadata": {
        "id": "LJO5J0o2rKW_"
      },
      "outputs": [],
      "source": [
        "import numpy as np\n",
        "import tensorflow as tf\n",
        "from tensorflow.keras.preprocessing import image\n",
        "from tensorflow.keras.applications import EfficientNetB0, MobileNetV2\n",
        "from tensorflow.keras.models import Sequential\n",
        "from tensorflow.keras.layers import Dense, GlobalAveragePooling2D, BatchNormalization, Dropout\n",
        "import IPython\n",
        "import os"
      ]
    },
    {
      "cell_type": "code",
      "execution_count": null,
      "metadata": {
        "id": "BGMZQXHZrnN5"
      },
      "outputs": [],
      "source": [
        "!pip install -U keras-tuner\n",
        "import kerastuner as kt"
      ]
    },
    {
      "cell_type": "code",
      "execution_count": 4,
      "metadata": {
        "colab": {
          "base_uri": "https://localhost:8080/"
        },
        "id": "fLbPijpNrM3N",
        "outputId": "569f74b5-b50b-4939-9e80-3a9ec08e430f"
      },
      "outputs": [
        {
          "output_type": "stream",
          "name": "stdout",
          "text": [
            "Mounted at /content/drive\n"
          ]
        }
      ],
      "source": [
        "from google.colab import drive\n",
        "drive.mount('/content/drive')"
      ]
    },
    {
      "cell_type": "code",
      "execution_count": 5,
      "metadata": {
        "id": "ULHrMRdVrYfv"
      },
      "outputs": [],
      "source": [
        "# seed 설정\n",
        "tf.random.set_seed(42)\n",
        "np.random.seed(42)"
      ]
    },
    {
      "cell_type": "code",
      "source": [
        "IMG_SIZE = 224\n",
        "BATCH_SIZE = 32"
      ],
      "metadata": {
        "id": "TwV0vGuHSV3I"
      },
      "execution_count": 6,
      "outputs": []
    },
    {
      "cell_type": "code",
      "source": [
        "# 데이터 경로\n",
        "data_path = '/content/drive/MyDrive/car_damage/'\n",
        "train_dir = os.path.join(data_path, 'training/')\n",
        "test_dir = os.path.join(data_path, 'validation/')"
      ],
      "metadata": {
        "id": "8kds0s4QSrVR"
      },
      "execution_count": 7,
      "outputs": []
    },
    {
      "cell_type": "code",
      "source": [
        "#데이터셋 확인\n",
        "\n",
        "num_train_damage = len(os.listdir(train_dir + '00-damage/'))\n",
        "num_train_whole = len(os.listdir(train_dir + '01-whole/'))\n",
        "tot_train = num_train_damage + num_train_whole\n",
        "\n",
        "num_test_damage = len(os.listdir(test_dir + '00-damage/'))\n",
        "num_test_whole = len(os.listdir(test_dir + '01-whole/'))\n",
        "tot_test = num_test_damage + num_test_whole\n",
        "\n",
        "print(f\"\"\"\n",
        "훈련 데이터셋 파손 데이터 수 : {num_train_damage}\n",
        "훈련 데이터셋 정상 데이터 수 : {num_train_whole}\n",
        "훈련 데이터셋 총  데이터 수 : {tot_train}\n",
        "----------------------------------\n",
        "검증 데이터셋 파손 데이터 수 : {num_test_damage}\n",
        "검증 데이터셋 정상 데이터 수 : {num_test_whole}\n",
        "검증 데이터셋 총  데이터 수 : {tot_test}\n",
        "\"\"\")"
      ],
      "metadata": {
        "colab": {
          "base_uri": "https://localhost:8080/"
        },
        "id": "y-xGI0krSiIT",
        "outputId": "218274d5-9b0e-41bc-d624-fe974bfc363e"
      },
      "execution_count": 7,
      "outputs": [
        {
          "output_type": "stream",
          "name": "stdout",
          "text": [
            "\n",
            "훈련 데이터셋 파손 데이터 수 : 920\n",
            "훈련 데이터셋 정상 데이터 수 : 920\n",
            "훈련 데이터셋 총  데이터 수 : 1840\n",
            "----------------------------------\n",
            "검증 데이터셋 파손 데이터 수 : 230\n",
            "검증 데이터셋 정상 데이터 수 : 230\n",
            "검증 데이터셋 총  데이터 수 : 460\n",
            "\n"
          ]
        }
      ]
    },
    {
      "cell_type": "code",
      "execution_count": 8,
      "metadata": {
        "id": "U9XjqKXrrfTL"
      },
      "outputs": [],
      "source": [
        "# generator 생성\n",
        "\n",
        "# 이미지 증강\n",
        "train_gen = image.ImageDataGenerator(width_shift_range=0.2,\n",
        "                                     brightness_range = (0.2, 0.1),\n",
        "                                     horizontal_flip = True,\n",
        "                                     rescale= 1./255,\n",
        "                                     fill_mode='nearest')\n",
        "\n",
        "test_gen = image.ImageDataGenerator(rescale= 1./255)"
      ]
    },
    {
      "cell_type": "code",
      "execution_count": 9,
      "metadata": {
        "colab": {
          "base_uri": "https://localhost:8080/"
        },
        "id": "QunnO6sFrfxX",
        "outputId": "24849eb9-117c-431b-a4f9-1de023725081"
      },
      "outputs": [
        {
          "output_type": "stream",
          "name": "stdout",
          "text": [
            "Found 1840 images belonging to 2 classes.\n",
            "Found 460 images belonging to 2 classes.\n"
          ]
        }
      ],
      "source": [
        "# 데이터 불러오기\n",
        "\n",
        "train = train_gen.flow_from_directory(train_dir,\n",
        "                                      target_size=(IMG_SIZE,IMG_SIZE),\n",
        "                                      batch_size=BATCH_SIZE,\n",
        "                                      color_mode='rgb',\n",
        "                                      shuffle=True,\n",
        "                                      class_mode='binary')\n",
        "\n",
        "test = test_gen.flow_from_directory(test_dir,\n",
        "                                      target_size=(IMG_SIZE,IMG_SIZE),\n",
        "                                      batch_size=BATCH_SIZE,\n",
        "                                      color_mode = 'rgb',\n",
        "                                      shuffle=True,\n",
        "                                      class_mode='binary')"
      ]
    },
    {
      "cell_type": "code",
      "source": [
        "print('train_classes', train.class_indices)\n",
        "print('test_classes', test.class_indices)"
      ],
      "metadata": {
        "colab": {
          "base_uri": "https://localhost:8080/"
        },
        "id": "-cPR50ErUpb2",
        "outputId": "a401a0ff-c546-4d0a-d737-5db2aaae6d36"
      },
      "execution_count": 10,
      "outputs": [
        {
          "output_type": "stream",
          "name": "stdout",
          "text": [
            "train_classes {'00-damage': 0, '01-whole': 1}\n",
            "test_classes {'00-damage': 0, '01-whole': 1}\n"
          ]
        }
      ]
    },
    {
      "cell_type": "code",
      "execution_count": null,
      "metadata": {
        "id": "01Uo-WDhrvPt"
      },
      "outputs": [],
      "source": [
        "# 사전학습 모델 불러오기.\n",
        "\n",
        "base_model = MobileNetV2(weights='imagenet', input_shape=(224,224,3),include_top=False)\n",
        "base_model.trainable = False"
      ]
    },
    {
      "cell_type": "code",
      "execution_count": null,
      "metadata": {
        "id": "KRaRXPCcrz54"
      },
      "outputs": [],
      "source": [
        "# 모델 구성\n",
        "\n",
        "model_1 = Sequential()\n",
        "\n",
        "model_1.add(base_model)\n",
        "model_1.add(GlobalAveragePooling2D())\n",
        "model_1.add(Dense(1024, activation='relu'))\n",
        "model_1.add(BatchNormalization())\n",
        "model_1.add(Dense(512, activation='relu'))\n",
        "model_1.add(BatchNormalization())\n",
        "model_1.add(Dense(1, activation='sigmoid'))\n",
        "\n",
        "model_1.compile(optimizer='adam', loss='binary_crossentropy', metrics=['acc'])"
      ]
    },
    {
      "cell_type": "code",
      "execution_count": null,
      "metadata": {
        "colab": {
          "base_uri": "https://localhost:8080/"
        },
        "id": "Kgf-rAXCr3Zk",
        "outputId": "6868141c-5c67-4d70-9593-c8554001a118"
      },
      "outputs": [
        {
          "output_type": "stream",
          "name": "stdout",
          "text": [
            "Epoch 1/3\n",
            "58/58 [==============================] - 447s 8s/step - loss: 0.5539 - acc: 0.8152 - val_loss: 0.7728 - val_acc: 0.6674\n",
            "Epoch 2/3\n",
            "58/58 [==============================] - 41s 712ms/step - loss: 0.3321 - acc: 0.8620 - val_loss: 0.8282 - val_acc: 0.7022\n",
            "Epoch 3/3\n",
            "58/58 [==============================] - 41s 710ms/step - loss: 0.2540 - acc: 0.8908 - val_loss: 0.4055 - val_acc: 0.8217\n"
          ]
        }
      ],
      "source": [
        "history = model_1.fit(train, epochs=3, batch_size=32 ,validation_data=test)"
      ]
    },
    {
      "cell_type": "code",
      "execution_count": 58,
      "metadata": {
        "id": "sPn2XvJHrq5D"
      },
      "outputs": [],
      "source": [
        "# 하이퍼파라미터 조절을 위해 model_builder 함수 정의.\n",
        "def model_builder(hp):\n",
        "\n",
        "  base = MobileNetV2(weights='imagenet', input_shape=(IMG_SIZE,IMG_SIZE,3),include_top=False)\n",
        "  for layer in base.layers[:-4]:\n",
        "    layer.trainable=False\n",
        "\n",
        "  model_tuned = Sequential()\n",
        "\n",
        "  model_tuned.add(base)\n",
        "  model_tuned.add(GlobalAveragePooling2D())\n",
        "\n",
        "  hp_units = hp.Int('units', min_value=32, max_value=1024, step=32)\n",
        "  model_tuned.add(Dense(units=hp_units, kernel_initializer='he_normal', activation='relu'))\n",
        "\n",
        "  hp_dropout = hp.Float('dropout', min_value=0.1, max_value=0.5, step=0.1)\n",
        "  model_tuned.add(Dropout(hp_dropout))\n",
        "\n",
        "  hp_units_2 = hp.Int('units_2', min_value=32, max_value=1024, step=32)\n",
        "  model_tuned.add(Dense(units=hp_units_2, kernel_initializer='he_normal',activation='relu'))\n",
        "  model_tuned.add(Dropout(hp_dropout))\n",
        "  model_tuned.add(Dense(1, activation='sigmoid'))\n",
        "\n",
        "  hp_learning_rate = hp.Choice('learning_rate', values=[1e-2, 1e-3, 1e-4])\n",
        "\n",
        "  model_tuned.compile(optimizer=tf.keras.optimizers.SGD(learning_rate=hp_learning_rate), loss='binary_crossentropy', metrics=['acc'])\n",
        "\n",
        "  return model_tuned"
      ]
    },
    {
      "cell_type": "code",
      "execution_count": 59,
      "metadata": {
        "id": "AOPutzKQr7HV"
      },
      "outputs": [],
      "source": [
        "# \bBayesianOptimization\n",
        "tuner = kt.BayesianOptimization(model_builder,\n",
        "                                objective='val_acc',\n",
        "                                max_trials=10,\n",
        "                                num_initial_points=2,\n",
        "                                seed=42)"
      ]
    },
    {
      "cell_type": "code",
      "execution_count": 60,
      "metadata": {
        "id": "ofudPty0r-9t"
      },
      "outputs": [],
      "source": [
        "# trial 후 사라지게.\n",
        "class ClearTrainingOutput(tf.keras.callbacks.Callback):\n",
        "  def on_train_end(*args, **kwargs):\n",
        "    IPython.display.clear_output(wait = True)"
      ]
    },
    {
      "cell_type": "code",
      "execution_count": 61,
      "metadata": {
        "colab": {
          "base_uri": "https://localhost:8080/"
        },
        "id": "JJ4bTkuRsAce",
        "outputId": "207c49bf-ccc0-4a04-c5b9-fde2428262c6"
      },
      "outputs": [
        {
          "output_type": "stream",
          "name": "stdout",
          "text": [
            "Trial 10 Complete [00h 04m 59s]\n",
            "val_acc: 0.834782600402832\n",
            "\n",
            "Best val_acc So Far: 0.873913049697876\n",
            "Total elapsed time: 00h 54m 27s\n",
            "INFO:tensorflow:Oracle triggered exit\n",
            "\n",
            "최적의 첫번재 노드 수 : 928\n",
            "최적의 두번째 노드 수 : 576\n",
            "최적의 학습률 : 0.01\n",
            "최적의 dropout : 0.2\n",
            "\n"
          ]
        }
      ],
      "source": [
        "tuner.search(train, epochs=7, validation_data=test, callbacks=[ClearTrainingOutput()])\n",
        "\n",
        "best_hps = tuner.get_best_hyperparameters(num_trials=1)[0]\n",
        "\n",
        "print(f\"\"\"\n",
        "최적의 첫번재 노드 수 : {best_hps.get('units')}\n",
        "최적의 두번째 노드 수 : {best_hps.get('units_2')}\n",
        "최적의 학습률 : {best_hps.get('learning_rate')}\n",
        "최적의 dropout : {best_hps.get('dropout')}\n",
        "\"\"\")"
      ]
    },
    {
      "cell_type": "code",
      "source": [
        "# colab 연결 끊겨서 수동으로 파라미터 적음.\n",
        "\n",
        "base = MobileNetV2(weights='imagenet', input_shape=(IMG_SIZE,IMG_SIZE,3),include_top=False)\n",
        "for layer in base.layers[:-4]:\n",
        "  layer.trainable = False\n",
        "\n",
        "model_tuned = Sequential()\n",
        "\n",
        "model_tuned.add(base)\n",
        "model_tuned.add(GlobalAveragePooling2D())\n",
        "model_tuned.add(Dense(928, kernel_initializer='he_normal', activation='relu'))\n",
        "model_tuned.add(Dropout(0.2))\n",
        "model_tuned.add(Dense(576, kernel_initializer='he_normal', activation='relu'))\n",
        "model_tuned.add(Dropout(0.2))\n",
        "model_tuned.add(Dense(1, activation='sigmoid'))\n",
        "\n",
        "model_tuned.compile(optimizer=tf.keras.optimizers.SGD(learning_rate=0.01), loss='binary_crossentropy', metrics=['acc'])"
      ],
      "metadata": {
        "colab": {
          "base_uri": "https://localhost:8080/"
        },
        "id": "ztj3m8wudgy3",
        "outputId": "7e98edb9-3fae-460a-ca6f-599281353abb"
      },
      "execution_count": 10,
      "outputs": [
        {
          "output_type": "stream",
          "name": "stdout",
          "text": [
            "Downloading data from https://storage.googleapis.com/tensorflow/keras-applications/mobilenet_v2/mobilenet_v2_weights_tf_dim_ordering_tf_kernels_1.0_224_no_top.h5\n",
            "9412608/9406464 [==============================] - 0s 0us/step\n",
            "9420800/9406464 [==============================] - 0s 0us/step\n"
          ]
        }
      ]
    },
    {
      "cell_type": "code",
      "source": [
        "# early_stop 적용 (val_loss가 제일 낮은 epoch 저장.)\n",
        "checkpoint = 'FMbest.hdf5'\n",
        "\n",
        "early_stop = tf.keras.callbacks.EarlyStopping(monitor='val_loss', min_delta=0, patience=3, verbose=1)\n",
        "\n",
        "save_best = tf.keras.callbacks.ModelCheckpoint(filepath=checkpoint, monitor='val_loss', verbose=1, save_best_only=True,\n",
        "                                               save_weights_only=True, mode='auto', save_freq='epoch', options=None)"
      ],
      "metadata": {
        "id": "ewn460nJdv6F"
      },
      "execution_count": 11,
      "outputs": []
    },
    {
      "cell_type": "code",
      "source": [
        "model_tuned.fit(train,batch_size=32, epochs=50, verbose=1,\n",
        "          validation_data=test,\n",
        "          callbacks=[early_stop,save_best])"
      ],
      "metadata": {
        "colab": {
          "base_uri": "https://localhost:8080/"
        },
        "id": "27whbXa1dxOd",
        "outputId": "a99b1052-baae-491e-e887-12a4c1a09627"
      },
      "execution_count": 13,
      "outputs": [
        {
          "output_type": "stream",
          "name": "stdout",
          "text": [
            "Epoch 1/50\n",
            "58/58 [==============================] - ETA: 0s - loss: 0.4878 - acc: 0.7587\n",
            "Epoch 00001: val_loss improved from inf to 0.53986, saving model to FMbest.hdf5\n",
            "58/58 [==============================] - 646s 11s/step - loss: 0.4878 - acc: 0.7587 - val_loss: 0.5399 - val_acc: 0.7196\n",
            "Epoch 2/50\n",
            "58/58 [==============================] - ETA: 0s - loss: 0.3931 - acc: 0.8250\n",
            "Epoch 00002: val_loss did not improve from 0.53986\n",
            "58/58 [==============================] - 41s 704ms/step - loss: 0.3931 - acc: 0.8250 - val_loss: 0.6613 - val_acc: 0.6500\n",
            "Epoch 3/50\n",
            "58/58 [==============================] - ETA: 0s - loss: 0.3571 - acc: 0.8516\n",
            "Epoch 00003: val_loss improved from 0.53986 to 0.47847, saving model to FMbest.hdf5\n",
            "58/58 [==============================] - 41s 708ms/step - loss: 0.3571 - acc: 0.8516 - val_loss: 0.4785 - val_acc: 0.7587\n",
            "Epoch 4/50\n",
            "58/58 [==============================] - ETA: 0s - loss: 0.3289 - acc: 0.8598\n",
            "Epoch 00004: val_loss improved from 0.47847 to 0.46121, saving model to FMbest.hdf5\n",
            "58/58 [==============================] - 41s 706ms/step - loss: 0.3289 - acc: 0.8598 - val_loss: 0.4612 - val_acc: 0.7826\n",
            "Epoch 5/50\n",
            "58/58 [==============================] - ETA: 0s - loss: 0.3019 - acc: 0.8668\n",
            "Epoch 00005: val_loss improved from 0.46121 to 0.42412, saving model to FMbest.hdf5\n",
            "58/58 [==============================] - 41s 710ms/step - loss: 0.3019 - acc: 0.8668 - val_loss: 0.4241 - val_acc: 0.8130\n",
            "Epoch 6/50\n",
            "58/58 [==============================] - ETA: 0s - loss: 0.2774 - acc: 0.8897\n",
            "Epoch 00006: val_loss improved from 0.42412 to 0.38120, saving model to FMbest.hdf5\n",
            "58/58 [==============================] - 41s 709ms/step - loss: 0.2774 - acc: 0.8897 - val_loss: 0.3812 - val_acc: 0.8283\n",
            "Epoch 7/50\n",
            "58/58 [==============================] - ETA: 0s - loss: 0.2782 - acc: 0.8859\n",
            "Epoch 00007: val_loss improved from 0.38120 to 0.33755, saving model to FMbest.hdf5\n",
            "58/58 [==============================] - 41s 708ms/step - loss: 0.2782 - acc: 0.8859 - val_loss: 0.3375 - val_acc: 0.8500\n",
            "Epoch 8/50\n",
            "58/58 [==============================] - ETA: 0s - loss: 0.2590 - acc: 0.8940\n",
            "Epoch 00008: val_loss did not improve from 0.33755\n",
            "58/58 [==============================] - 41s 703ms/step - loss: 0.2590 - acc: 0.8940 - val_loss: 0.3769 - val_acc: 0.8391\n",
            "Epoch 9/50\n",
            "58/58 [==============================] - ETA: 0s - loss: 0.2348 - acc: 0.9011\n",
            "Epoch 00009: val_loss did not improve from 0.33755\n",
            "58/58 [==============================] - 41s 705ms/step - loss: 0.2348 - acc: 0.9011 - val_loss: 0.3691 - val_acc: 0.8326\n",
            "Epoch 10/50\n",
            "58/58 [==============================] - ETA: 0s - loss: 0.2447 - acc: 0.9043\n",
            "Epoch 00010: val_loss did not improve from 0.33755\n",
            "58/58 [==============================] - 41s 701ms/step - loss: 0.2447 - acc: 0.9043 - val_loss: 0.3704 - val_acc: 0.8370\n",
            "Epoch 00010: early stopping\n"
          ]
        },
        {
          "output_type": "execute_result",
          "data": {
            "text/plain": [
              "<keras.callbacks.History at 0x7f15d0084b90>"
            ]
          },
          "metadata": {},
          "execution_count": 13
        }
      ]
    },
    {
      "cell_type": "code",
      "source": [
        "# best 모델 불러오기.\n",
        "model_tuned.load_weights(checkpoint)"
      ],
      "metadata": {
        "id": "YgNdjvAuiDHQ"
      },
      "execution_count": 15,
      "outputs": []
    }
  ],
  "metadata": {
    "colab": {
      "collapsed_sections": [],
      "name": "car_damaged.ipynb",
      "provenance": [],
      "authorship_tag": "ABX9TyOxi+685scqBtLd4z+3fe2o",
      "include_colab_link": true
    },
    "kernelspec": {
      "display_name": "Python 3",
      "name": "python3"
    },
    "language_info": {
      "name": "python"
    }
  },
  "nbformat": 4,
  "nbformat_minor": 0
}