{
  "nbformat": 4,
  "nbformat_minor": 0,
  "metadata": {
    "colab": {
      "name": "DL-Project.ipynb",
      "provenance": [],
      "authorship_tag": "ABX9TyNeGy7PHhKmBKqylSYI7hX6",
      "include_colab_link": true
    },
    "kernelspec": {
      "name": "python3",
      "display_name": "Python 3"
    },
    "language_info": {
      "name": "python"
    },
    "accelerator": "GPU"
  },
  "cells": [
    {
      "cell_type": "markdown",
      "metadata": {
        "id": "view-in-github",
        "colab_type": "text"
      },
      "source": [
        "<a href=\"https://colab.research.google.com/github/MaengJoonYoung/DL-Project/blob/main/DL_Project.ipynb\" target=\"_parent\"><img src=\"https://colab.research.google.com/assets/colab-badge.svg\" alt=\"Open In Colab\"/></a>"
      ]
    },
    {
      "cell_type": "code",
      "execution_count": 1,
      "metadata": {
        "id": "_0VuSK3ghynC"
      },
      "outputs": [],
      "source": [
        "import numpy as np\n",
        "import tensorflow as tf\n",
        "from tensorflow.keras.preprocessing import image"
      ]
    },
    {
      "cell_type": "code",
      "source": [
        "from google.colab import drive\n",
        "drive.mount('/content/drive')"
      ],
      "metadata": {
        "colab": {
          "base_uri": "https://localhost:8080/"
        },
        "id": "NbHw716GiEgW",
        "outputId": "d90b126f-e13a-42e3-c27e-1711a4e92c29"
      },
      "execution_count": 3,
      "outputs": [
        {
          "output_type": "stream",
          "name": "stdout",
          "text": [
            "Mounted at /content/drive\n"
          ]
        }
      ]
    },
    {
      "cell_type": "code",
      "source": [
        "# seed 설정\n",
        "tf.random.set_seed(42)"
      ],
      "metadata": {
        "id": "EPsEW4aUqTqF"
      },
      "execution_count": 9,
      "outputs": []
    },
    {
      "cell_type": "code",
      "source": [
        "# generator 생성\n",
        "\n",
        "# 이미지 증강\n",
        "train_gen = image.ImageDataGenerator(width_shift_range=0.2,\n",
        "                                     brightness_range = (0.2, 0.1),\n",
        "                                     horizontal_flip = True,\n",
        "                                     rescale= 1./255,\n",
        "                                     validation_split=0.2)\n",
        "\n",
        "test_gen = image.ImageDataGenerator(rescale= 1./255)"
      ],
      "metadata": {
        "id": "dQ6aqCtllBXQ"
      },
      "execution_count": 10,
      "outputs": []
    },
    {
      "cell_type": "code",
      "source": [
        "data_path = '/content/drive/MyDrive/car_damage'\n",
        "data_path+'/train'"
      ],
      "metadata": {
        "colab": {
          "base_uri": "https://localhost:8080/",
          "height": 35
        },
        "id": "5WIYJ7JZq-Ym",
        "outputId": "41eb6d30-843b-42b5-cb4e-4eda46624c87"
      },
      "execution_count": 14,
      "outputs": [
        {
          "output_type": "execute_result",
          "data": {
            "application/vnd.google.colaboratory.intrinsic+json": {
              "type": "string"
            },
            "text/plain": [
              "'/content/drive/MyDrive/car_damage/train'"
            ]
          },
          "metadata": {},
          "execution_count": 14
        }
      ]
    },
    {
      "cell_type": "code",
      "source": [
        "# 데이터 불러오기\n",
        "train_path = '/content/drive/MyDrive/car_damage/training'\n",
        "val_path = '/content/drive/MyDrive/car_damage/validation'\n",
        "\n",
        "train = train_gen.flow_from_directory(train_path,\n",
        "                                      classes=['00-damage', '01-whole'],\n",
        "                                      target_size=(128,128),\n",
        "                                      batch_size=32,\n",
        "                                      class_mode='binary',\n",
        "                                      subset='training')\n",
        "\n",
        "val = train_gen.flow_from_directory(train_path,\n",
        "                                      classes=['00-damage', '01-whole'],\n",
        "                                      target_size=(128,128),\n",
        "                                      batch_size=32,\n",
        "                                      class_mode='binary',\n",
        "                                      subset='validation')\n",
        "\n",
        "test = test_gen.flow_from_directory(val_path,\n",
        "                                      classes=['00-damage', '01-whole'],\n",
        "                                      target_size=(128,128),\n",
        "                                      batch_size=32,\n",
        "                                      class_mode='binary')"
      ],
      "metadata": {
        "colab": {
          "base_uri": "https://localhost:8080/"
        },
        "id": "yNOcUNsPmts7",
        "outputId": "9be82e0e-c77f-476f-e494-c94ec8f556d5"
      },
      "execution_count": 17,
      "outputs": [
        {
          "output_type": "stream",
          "name": "stdout",
          "text": [
            "Found 1472 images belonging to 2 classes.\n",
            "Found 368 images belonging to 2 classes.\n",
            "Found 460 images belonging to 2 classes.\n"
          ]
        }
      ]
    }
  ]
}